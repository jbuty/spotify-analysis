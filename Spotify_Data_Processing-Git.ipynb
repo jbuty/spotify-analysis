{
 "cells": [
  {
   "cell_type": "markdown",
   "metadata": {},
   "source": [
    "# Accessing the Spotify API"
   ]
  },
  {
   "cell_type": "markdown",
   "metadata": {},
   "source": [
    "## Using Spotipy to create artist and track data\n",
    "\n",
    "[Spotipy](https://spotipy.readthedocs.io/en/2.13.0/) is a lightweight Python Library for the Spotify Web API. I'm specifically using it to garner data about how my music listening habits have changed over time based on a number of audio statistics. Additionally, I can see the top tracks and artists that I've listened to the most for three different time frames. \n",
    "\n",
    "The Spotify API gives users access to their music listening data for the short-term ( ~4 weeks), medium-term ( ~6 months) and long-term time frames (several years). The first section details how to access your data, however, I've omitted some personal information and will be pulling in my data from a csv. The csvs were created from data collected from the following process."
   ]
  },
  {
   "cell_type": "code",
   "execution_count": 97,
   "metadata": {},
   "outputs": [],
   "source": [
    "# Import libraries\n",
    "import numpy as np\n",
    "import pandas as pd\n",
    "import spotipy\n",
    "from pandas.io.json import json_normalize\n",
    "import csv"
   ]
  },
  {
   "cell_type": "markdown",
   "metadata": {},
   "source": [
    "In order to get authentication you must have a spotify premium account and register an application with Spotify. After registering your application with Spotify you will have a personal client_id and client_secret token. You must also create a redirect_uri. You can then input the necessary information as such below. "
   ]
  },
  {
   "cell_type": "code",
   "execution_count": 98,
   "metadata": {},
   "outputs": [],
   "source": [
    "# oAuth Information\n",
    "username='xxxxxxx'\n",
    "scope = 'user-library-read user-top-read'\n",
    "client_id = 'xxxxxxx'\n",
    "client_secret = 'xxxxxxx'\n",
    "redirect_uri = 'xxxxxxx'\n",
    "\n",
    "# access token\n",
    "tk = spotipy.util.prompt_for_user_token(username, scope, client_id, client_secret, redirect_uri)"
   ]
  },
  {
   "cell_type": "code",
   "execution_count": 99,
   "metadata": {},
   "outputs": [],
   "source": [
    "# Authorizing access to my data and instantiating Spotify Object\n",
    "sp = spotipy.Spotify(auth = tk)"
   ]
  },
  {
   "cell_type": "markdown",
   "metadata": {},
   "source": [
    "## Requesting Artist and Track Data\n",
    "Here, I am requesting my top **artists** and **tracks** for the short term, medium term, and long term time frames. I then convert the JSON to a data frame which will later be converted into a csv file for analysis."
   ]
  },
  {
   "cell_type": "code",
   "execution_count": 100,
   "metadata": {
    "scrolled": false
   },
   "outputs": [],
   "source": [
    "# Returning top 50 artists for each time range\n",
    "A_SAMPLE_SIZE = 50\n",
    "A_OFFSET = 0\n",
    "\n",
    "st_artists = sp.current_user_top_artists(limit=A_SAMPLE_SIZE, offset=A_OFFSET, time_range='short_term')\n",
    "mt_artists = sp.current_user_top_artists(limit=A_SAMPLE_SIZE, offset=A_OFFSET, time_range='medium_term')\n",
    "lt_artists = sp.current_user_top_artists(limit=A_SAMPLE_SIZE, offset=A_OFFSET, time_range='long_term')\n",
    "\n",
    "# Data frames\n",
    "short_term_top = pd.json_normalize(st_artists[\"items\"])\n",
    "medium_term_top = pd.json_normalize(mt_artists[\"items\"])\n",
    "long_term_top = pd.json_normalize(lt_artists[\"items\"])\n"
   ]
  },
  {
   "cell_type": "code",
   "execution_count": 101,
   "metadata": {},
   "outputs": [],
   "source": [
    "# Returning top 50 tracks for each time range\n",
    "T_SAMPLE_SIZE = 50\n",
    "# Start at the first track\n",
    "T_OFFSET = 0\n",
    "\n",
    "# Data for Short, Medium, and Long Term\n",
    "st_tracks = sp.current_user_top_tracks(limit=T_SAMPLE_SIZE, offset=T_OFFSET, time_range='short_term')\n",
    "mt_tracks = sp.current_user_top_tracks(limit=T_SAMPLE_SIZE, offset=T_OFFSET, time_range='medium_term')\n",
    "lt_tracks = sp.current_user_top_tracks(limit=T_SAMPLE_SIZE, offset=T_OFFSET, time_range='long_term')   \n",
    "\n",
    "st_top_tracks_df = pd.json_normalize(st_tracks[\"items\"])\n",
    "mt_top_tracks_df = pd.json_normalize(mt_tracks[\"items\"])\n",
    "lt_top_tracks_df = pd.json_normalize(lt_tracks[\"items\"])"
   ]
  },
  {
   "cell_type": "code",
   "execution_count": 102,
   "metadata": {},
   "outputs": [],
   "source": [
    "# Subset down to important fields\n",
    "st_top_tracks_df = st_top_tracks_df[['artists', 'name','popularity', 'id', 'duration_ms', 'album.name', \n",
    "                                     'album.release_date']].sort_values(by=['popularity'], \n",
    "                                                                        ascending=False)\n",
    "mt_top_tracks_df = mt_top_tracks_df[['artists', 'name','popularity', 'id', 'duration_ms', 'album.name', \n",
    "                                     'album.release_date']].sort_values(by=['popularity'], \n",
    "                                                                        ascending=False)\n",
    "lt_top_tracks_df = lt_top_tracks_df[['artists', 'name','popularity', 'id', 'duration_ms', 'album.name', \n",
    "                                     'album.release_date']].sort_values(by=['popularity'], \n",
    "                                                                        ascending=False)\n",
    "# Lambda function to pull out Artist name\n",
    "artist_name = lambda col_value : col_value[0]['name']\n",
    "\n",
    "st_top_tracks_df['artists'] = st_top_tracks_df['artists'].apply(artist_name)\n",
    "mt_top_tracks_df['artists'] = mt_top_tracks_df['artists'].apply(artist_name)\n",
    "lt_top_tracks_df['artists'] = lt_top_tracks_df['artists'].apply(artist_name)\n"
   ]
  },
  {
   "cell_type": "markdown",
   "metadata": {},
   "source": [
    "### Extending Genres Column\n",
    "\n",
    "I noticed the 'genres' column includes lists of the different types of genres that artists are a part of. In order to get a better look at the overall number and kinds of genres we need to split up the list items into separate row. I show two different ways to perform this. The first is without pandas built in 'explode' function and the second uses it."
   ]
  },
  {
   "cell_type": "code",
   "execution_count": 103,
   "metadata": {},
   "outputs": [],
   "source": [
    "st_df = short_term_top[['name', 'popularity', 'genres', 'followers.total']]\n",
    "mt_df = medium_term_top[['name', 'popularity', 'genres', 'followers.total']]\n",
    "lt_df = long_term_top[['name', 'popularity', 'genres', 'followers.total']]"
   ]
  },
  {
   "cell_type": "code",
   "execution_count": null,
   "metadata": {},
   "outputs": [],
   "source": [
    "# Unpack the 'genre' variable to create a row for each genre\n",
    "\n",
    "# st_df_genres = pd.DataFrame({\n",
    "#       col:np.repeat(st_df[col].values, st_df['genres'].str.len())\n",
    "#       for col in st_df.columns.drop('genres')}\n",
    "#     ).assign(**{'genres':np.concatenate(st_df['genres'].values)})[st_df.columns]\n",
    "\n",
    "# mt_df_genres = pd.DataFrame({\n",
    "#       col:np.repeat(mt_df[col].values, mt_df['genres'].str.len())\n",
    "#       for col in mt_df.columns.drop('genres')}\n",
    "#     ).assign(**{'genres':np.concatenate(mt_df['genres'].values)})[mt_df.columns]\n",
    "\n",
    "# lt_df_genres = pd.DataFrame({\n",
    "#       col:np.repeat(lt_df[col].values, lt_df['genres'].str.len())\n",
    "#       for col in lt_df.columns.drop('genres')}\n",
    "#     ).assign(**{'genres':np.concatenate(lt_df['genres'].values)})[lt_df.columns]"
   ]
  },
  {
   "cell_type": "code",
   "execution_count": 104,
   "metadata": {},
   "outputs": [],
   "source": [
    "# Splitting genre list items into separate rows\n",
    "st_df_genres = st_df.explode('genres')\n",
    "mt_df_genres = mt_df.explode('genres')\n",
    "lt_df_genres = lt_df.explode('genres')\n",
    "\n",
    "st_df_genres['term'] = \"Short Term\"\n",
    "mt_df_genres['term'] = \"Medium Term\"\n",
    "lt_df_genres['term'] = \"Long Term\"\n",
    "\n",
    "top_artists = pd.concat([st_df_genres, mt_df_genres, lt_df_genres], ignore_index = True)\n",
    "\n",
    "# Create one csv file for all time frames \n",
    "top_artists.to_csv('spotify_data/top_artists_by_genre.csv')"
   ]
  },
  {
   "cell_type": "markdown",
   "metadata": {},
   "source": [
    "## Writing CSV files for Artist and Track data"
   ]
  },
  {
   "cell_type": "code",
   "execution_count": 105,
   "metadata": {},
   "outputs": [],
   "source": [
    "### For Artist Data\n",
    "\n",
    "short_term_top.to_csv('spotify_data/st_artists.csv')\n",
    "medium_term_top.to_csv('spotify_data/mt_artists.csv')\n",
    "long_term_top.to_csv('spotify_data/lt_artists.csv')\n",
    "\n",
    "### For Track Data\n",
    "\n",
    "st_top_tracks_df.to_csv('spotify_data/st_tracks.csv')\n",
    "mt_top_tracks_df.to_csv('spotify_data/mt_tracks.csv')\n",
    "lt_top_tracks_df.to_csv('spotify_data/lt_tracks.csv')\n",
    "\n",
    "\n",
    "### Combined Top Tracks and Artists\n",
    "\n",
    "st_top_tracks_df2 = st_top_tracks_df.drop(['id'], axis = 1)\n",
    "st_top_tracks_df2['term'] = 'Short Term'\n",
    "mt_top_tracks_df2 = mt_top_tracks_df.drop(['id'], axis = 1)\n",
    "mt_top_tracks_df2['term'] = 'Medium Term'\n",
    "lt_top_tracks_df2 = lt_top_tracks_df.drop(['id'], axis = 1)\n",
    "lt_top_tracks_df2['term'] = 'Long Term'\n",
    "\n",
    "top_songs = pd.concat([st_top_tracks_df2, mt_top_tracks_df2, lt_top_tracks_df2], ignore_index = True)\n",
    "top_songs.to_csv('spotify_data/top_songs.csv')\n"
   ]
  },
  {
   "cell_type": "markdown",
   "metadata": {},
   "source": [
    "## Returning Top Tracks' Audio Features for 3 Time Frames"
   ]
  },
  {
   "cell_type": "code",
   "execution_count": 106,
   "metadata": {},
   "outputs": [],
   "source": [
    "# Audio statistic data\n",
    "\n",
    "trends_set = [\n",
    "    { 'ref': lt_top_tracks_df, 'term': 'Long'},\n",
    "    { 'ref': mt_top_tracks_df, 'term': 'Medium'},\n",
    "    { 'ref': st_top_tracks_df, 'term': 'Short'}\n",
    "]\n",
    "\n",
    "# Create empty dictionaries for features\n",
    "loudness = {}\n",
    "tempo = {}\n",
    "mode = {}\n",
    "energy = {}\n",
    "danceability = {}\n",
    "speechiness = {}\n",
    "acousticness = {}\n",
    "instrumentalness = {}\n",
    "liveness = {}\n",
    "valence = {}\n",
    "popularity = {}\n",
    "\n",
    "# Loop through each time frame\n",
    "for df_item in trends_set:\n",
    "    dict_data = df_item['ref'].to_dict(orient = 'index')\n",
    "    track_popularity = {v['id']: v['popularity'] for k, v in dict_data.items()}\n",
    "\n",
    "    try:\n",
    "        # Return audio features based off track id\n",
    "        track_features = sp.audio_features(track_popularity.keys())\n",
    "    except:\n",
    "        print('No Track Audio Features')\n",
    "        continue\n",
    "        track_features\n",
    "    \n",
    "    track_analytics = None\n",
    "    collect_col_name = True\n",
    "    # Adding the popularity of a track\n",
    "    for feature in track_features:\n",
    "        feature['popularity'] = track_popularity[feature['id']]\n",
    "        \n",
    "        if collect_col_name:\n",
    "            track_analytics = pd.DataFrame(columns = list(feature.keys()))\n",
    "            collect_col_name = False\n",
    "        track_analytics = track_analytics.append(feature, ignore_index = True)\n",
    "\n",
    "    loudness[df_item['term']] = np.average(track_analytics['loudness'])\n",
    "    tempo[df_item['term']] = np.average(track_analytics['tempo'])\n",
    "    mode[df_item['term']] = np.average(pd.to_numeric(track_analytics['mode']))\n",
    "    danceability[df_item['term']] = np.average(track_analytics['danceability'])\n",
    "    energy[df_item['term']] = np.average(track_analytics['energy'])\n",
    "    speechiness[df_item['term']] = np.average(track_analytics['speechiness'])\n",
    "    acousticness[df_item['term']] = np.average(track_analytics['acousticness'])\n",
    "    instrumentalness[df_item['term']] = np.average(pd.to_numeric(track_analytics['instrumentalness']))\n",
    "    liveness[df_item['term']] = np.average(track_analytics['liveness'])\n",
    "    valence[df_item['term']] = np.average(track_analytics['valence'])\n",
    "    popularity[df_item['term']] = np.average(pd.to_numeric(track_analytics['popularity']))\n",
    "    "
   ]
  },
  {
   "cell_type": "code",
   "execution_count": 65,
   "metadata": {},
   "outputs": [],
   "source": [
    "# Return User's Current Track\n",
    "# current_track = sp.currently_playing()\n",
    "# current_track = pd.json_normalize(current_track['item'])\n",
    "# print(current_track['name'])"
   ]
  },
  {
   "cell_type": "markdown",
   "metadata": {},
   "source": [
    "### Combining Audio Features of 3 Time Frames into one Data Frame"
   ]
  },
  {
   "cell_type": "code",
   "execution_count": 111,
   "metadata": {},
   "outputs": [
    {
     "data": {
      "text/html": [
       "<div>\n",
       "<style scoped>\n",
       "    .dataframe tbody tr th:only-of-type {\n",
       "        vertical-align: middle;\n",
       "    }\n",
       "\n",
       "    .dataframe tbody tr th {\n",
       "        vertical-align: top;\n",
       "    }\n",
       "\n",
       "    .dataframe thead th {\n",
       "        text-align: right;\n",
       "    }\n",
       "</style>\n",
       "<table border=\"1\" class=\"dataframe\">\n",
       "  <thead>\n",
       "    <tr style=\"text-align: right;\">\n",
       "      <th></th>\n",
       "      <th>Long</th>\n",
       "      <th>Medium</th>\n",
       "      <th>Short</th>\n",
       "    </tr>\n",
       "  </thead>\n",
       "  <tbody>\n",
       "    <tr>\n",
       "      <th>0</th>\n",
       "      <td>-8.264720</td>\n",
       "      <td>-7.762740</td>\n",
       "      <td>-7.716480</td>\n",
       "    </tr>\n",
       "    <tr>\n",
       "      <th>1</th>\n",
       "      <td>119.279100</td>\n",
       "      <td>114.849040</td>\n",
       "      <td>113.066580</td>\n",
       "    </tr>\n",
       "    <tr>\n",
       "      <th>2</th>\n",
       "      <td>0.700000</td>\n",
       "      <td>0.420000</td>\n",
       "      <td>0.600000</td>\n",
       "    </tr>\n",
       "    <tr>\n",
       "      <th>3</th>\n",
       "      <td>0.581360</td>\n",
       "      <td>0.611400</td>\n",
       "      <td>0.563220</td>\n",
       "    </tr>\n",
       "    <tr>\n",
       "      <th>4</th>\n",
       "      <td>0.637200</td>\n",
       "      <td>0.583520</td>\n",
       "      <td>0.562940</td>\n",
       "    </tr>\n",
       "    <tr>\n",
       "      <th>5</th>\n",
       "      <td>0.074208</td>\n",
       "      <td>0.091748</td>\n",
       "      <td>0.078730</td>\n",
       "    </tr>\n",
       "    <tr>\n",
       "      <th>6</th>\n",
       "      <td>0.273138</td>\n",
       "      <td>0.344791</td>\n",
       "      <td>0.380407</td>\n",
       "    </tr>\n",
       "    <tr>\n",
       "      <th>7</th>\n",
       "      <td>0.299963</td>\n",
       "      <td>0.264205</td>\n",
       "      <td>0.125538</td>\n",
       "    </tr>\n",
       "    <tr>\n",
       "      <th>8</th>\n",
       "      <td>0.141076</td>\n",
       "      <td>0.168566</td>\n",
       "      <td>0.218516</td>\n",
       "    </tr>\n",
       "    <tr>\n",
       "      <th>9</th>\n",
       "      <td>0.402772</td>\n",
       "      <td>0.387228</td>\n",
       "      <td>0.399944</td>\n",
       "    </tr>\n",
       "    <tr>\n",
       "      <th>10</th>\n",
       "      <td>42.880000</td>\n",
       "      <td>50.760000</td>\n",
       "      <td>50.860000</td>\n",
       "    </tr>\n",
       "  </tbody>\n",
       "</table>\n",
       "</div>"
      ],
      "text/plain": [
       "          Long      Medium       Short\n",
       "0    -8.264720   -7.762740   -7.716480\n",
       "1   119.279100  114.849040  113.066580\n",
       "2     0.700000    0.420000    0.600000\n",
       "3     0.581360    0.611400    0.563220\n",
       "4     0.637200    0.583520    0.562940\n",
       "5     0.074208    0.091748    0.078730\n",
       "6     0.273138    0.344791    0.380407\n",
       "7     0.299963    0.264205    0.125538\n",
       "8     0.141076    0.168566    0.218516\n",
       "9     0.402772    0.387228    0.399944\n",
       "10   42.880000   50.760000   50.860000"
      ]
     },
     "execution_count": 111,
     "metadata": {},
     "output_type": "execute_result"
    }
   ],
   "source": [
    "results_analytics = pd.DataFrame(columns=['Long', 'Medium', 'Short'])\n",
    "features = [loudness, tempo, mode, danceability, energy, speechiness, acousticness, instrumentalness, \n",
    "            liveness, valence, popularity]\n",
    "\n",
    "# change to use pd.concat\n",
    "for f in features:\n",
    "    results_analytics = results_analytics.append(f, ignore_index = True)\n",
    "\n",
    "# results_analytics.index = ['Loudness', 'Tempo', 'Modality', 'Danceability', 'Energy', 'Speechiness', \n",
    "#                            'Acousticness', 'Instrumentalness', 'Liveness', 'Valence', 'Popularity']\n",
    "#results_analytics"
   ]
  },
  {
   "cell_type": "code",
   "execution_count": 112,
   "metadata": {},
   "outputs": [],
   "source": [
    "results_analytics.to_csv('spotify_data/results_analytics.csv')"
   ]
  },
  {
   "cell_type": "markdown",
   "metadata": {},
   "source": [
    "## Accessing Spotify Data through their API\n",
    "This requires you to set up a local node server in order to return the **Access Token**\n",
    "\n",
    "I followed this tutorial: [Analyzing Spotify Music](https://vsupalov.com/analyze-spotify-music-library-with-jupyter-pandas/)"
   ]
  },
  {
   "cell_type": "code",
   "execution_count": null,
   "metadata": {},
   "outputs": [],
   "source": [
    "TOKEN = \"token\"\n"
   ]
  },
  {
   "cell_type": "code",
   "execution_count": null,
   "metadata": {},
   "outputs": [],
   "source": [
    "import json\n",
    "import requests\n",
    "from furl import furl\n",
    "from math import ceil\n",
    "\n",
    "# to save some typing\n",
    "import pandas as pd\n",
    "import matplotlib\n",
    "\n",
    "# to display plots in the notebook\n",
    "%matplotlib inline\n",
    "import matplotlib.pyplot as plt"
   ]
  },
  {
   "cell_type": "code",
   "execution_count": null,
   "metadata": {},
   "outputs": [],
   "source": [
    "url = \"https://api.spotify.com/v1/me/tracks\"\n",
    "headers = {'Authorization': \"Bearer {}\".format()}\n",
    "r = requests.get(url, headers=headers)\n",
    "parsed = json.loads(r.text)\n",
    "\n",
    "count_songs = parsed[\"total\"]\n",
    "print(\"Total number of songs: {}\".format(count_songs))"
   ]
  }
 ],
 "metadata": {
  "kernelspec": {
   "display_name": "Python 3",
   "language": "python",
   "name": "python3"
  },
  "language_info": {
   "codemirror_mode": {
    "name": "ipython",
    "version": 3
   },
   "file_extension": ".py",
   "mimetype": "text/x-python",
   "name": "python",
   "nbconvert_exporter": "python",
   "pygments_lexer": "ipython3",
   "version": "3.7.6"
  }
 },
 "nbformat": 4,
 "nbformat_minor": 4
}
